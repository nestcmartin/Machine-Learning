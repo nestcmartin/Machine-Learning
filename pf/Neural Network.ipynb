{
 "cells": [
  {
   "cell_type": "markdown",
   "metadata": {},
   "source": [
    "# Aprendizaje Automático - Proyecto Final\n",
    "## Red Neuronal"
   ]
  },
  {
   "cell_type": "code",
   "execution_count": 3,
   "metadata": {},
   "outputs": [],
   "source": [
    "import random\n",
    "import numpy as np\n",
    "import pandas as pd\n",
    "import scipy.optimize as opt\n",
    "from scipy.io import loadmat\n",
    "import matplotlib.pyplot as plt\n",
    "\n",
    "import displayData as dd\n",
    "import checkNNGradients as nn"
   ]
  },
  {
   "cell_type": "code",
   "execution_count": 4,
   "metadata": {},
   "outputs": [
    {
     "data": {
      "text/html": [
       "<div>\n",
       "<style scoped>\n",
       "    .dataframe tbody tr th:only-of-type {\n",
       "        vertical-align: middle;\n",
       "    }\n",
       "\n",
       "    .dataframe tbody tr th {\n",
       "        vertical-align: top;\n",
       "    }\n",
       "\n",
       "    .dataframe thead th {\n",
       "        text-align: right;\n",
       "    }\n",
       "</style>\n",
       "<table border=\"1\" class=\"dataframe\">\n",
       "  <thead>\n",
       "    <tr style=\"text-align: right;\">\n",
       "      <th></th>\n",
       "      <th>age</th>\n",
       "      <th>sex</th>\n",
       "      <th>trestbps</th>\n",
       "      <th>chol</th>\n",
       "      <th>fbs</th>\n",
       "      <th>restecg</th>\n",
       "      <th>thalach</th>\n",
       "      <th>exang</th>\n",
       "      <th>oldpeak</th>\n",
       "      <th>ca</th>\n",
       "      <th>...</th>\n",
       "      <th>cp_1</th>\n",
       "      <th>cp_2</th>\n",
       "      <th>cp_3</th>\n",
       "      <th>thal_0</th>\n",
       "      <th>thal_1</th>\n",
       "      <th>thal_2</th>\n",
       "      <th>thal_3</th>\n",
       "      <th>slope_0</th>\n",
       "      <th>slope_1</th>\n",
       "      <th>slope_2</th>\n",
       "    </tr>\n",
       "  </thead>\n",
       "  <tbody>\n",
       "    <tr>\n",
       "      <th>0</th>\n",
       "      <td>63</td>\n",
       "      <td>1</td>\n",
       "      <td>145</td>\n",
       "      <td>233</td>\n",
       "      <td>1</td>\n",
       "      <td>0</td>\n",
       "      <td>150</td>\n",
       "      <td>0</td>\n",
       "      <td>2.3</td>\n",
       "      <td>0</td>\n",
       "      <td>...</td>\n",
       "      <td>0</td>\n",
       "      <td>0</td>\n",
       "      <td>1</td>\n",
       "      <td>0</td>\n",
       "      <td>1</td>\n",
       "      <td>0</td>\n",
       "      <td>0</td>\n",
       "      <td>1</td>\n",
       "      <td>0</td>\n",
       "      <td>0</td>\n",
       "    </tr>\n",
       "    <tr>\n",
       "      <th>1</th>\n",
       "      <td>37</td>\n",
       "      <td>1</td>\n",
       "      <td>130</td>\n",
       "      <td>250</td>\n",
       "      <td>0</td>\n",
       "      <td>1</td>\n",
       "      <td>187</td>\n",
       "      <td>0</td>\n",
       "      <td>3.5</td>\n",
       "      <td>0</td>\n",
       "      <td>...</td>\n",
       "      <td>0</td>\n",
       "      <td>1</td>\n",
       "      <td>0</td>\n",
       "      <td>0</td>\n",
       "      <td>0</td>\n",
       "      <td>1</td>\n",
       "      <td>0</td>\n",
       "      <td>1</td>\n",
       "      <td>0</td>\n",
       "      <td>0</td>\n",
       "    </tr>\n",
       "    <tr>\n",
       "      <th>2</th>\n",
       "      <td>41</td>\n",
       "      <td>0</td>\n",
       "      <td>130</td>\n",
       "      <td>204</td>\n",
       "      <td>0</td>\n",
       "      <td>0</td>\n",
       "      <td>172</td>\n",
       "      <td>0</td>\n",
       "      <td>1.4</td>\n",
       "      <td>0</td>\n",
       "      <td>...</td>\n",
       "      <td>1</td>\n",
       "      <td>0</td>\n",
       "      <td>0</td>\n",
       "      <td>0</td>\n",
       "      <td>0</td>\n",
       "      <td>1</td>\n",
       "      <td>0</td>\n",
       "      <td>0</td>\n",
       "      <td>0</td>\n",
       "      <td>1</td>\n",
       "    </tr>\n",
       "    <tr>\n",
       "      <th>3</th>\n",
       "      <td>56</td>\n",
       "      <td>1</td>\n",
       "      <td>120</td>\n",
       "      <td>236</td>\n",
       "      <td>0</td>\n",
       "      <td>1</td>\n",
       "      <td>178</td>\n",
       "      <td>0</td>\n",
       "      <td>0.8</td>\n",
       "      <td>0</td>\n",
       "      <td>...</td>\n",
       "      <td>1</td>\n",
       "      <td>0</td>\n",
       "      <td>0</td>\n",
       "      <td>0</td>\n",
       "      <td>0</td>\n",
       "      <td>1</td>\n",
       "      <td>0</td>\n",
       "      <td>0</td>\n",
       "      <td>0</td>\n",
       "      <td>1</td>\n",
       "    </tr>\n",
       "    <tr>\n",
       "      <th>4</th>\n",
       "      <td>57</td>\n",
       "      <td>0</td>\n",
       "      <td>120</td>\n",
       "      <td>354</td>\n",
       "      <td>0</td>\n",
       "      <td>1</td>\n",
       "      <td>163</td>\n",
       "      <td>1</td>\n",
       "      <td>0.6</td>\n",
       "      <td>0</td>\n",
       "      <td>...</td>\n",
       "      <td>0</td>\n",
       "      <td>0</td>\n",
       "      <td>0</td>\n",
       "      <td>0</td>\n",
       "      <td>0</td>\n",
       "      <td>1</td>\n",
       "      <td>0</td>\n",
       "      <td>0</td>\n",
       "      <td>0</td>\n",
       "      <td>1</td>\n",
       "    </tr>\n",
       "  </tbody>\n",
       "</table>\n",
       "<p>5 rows × 22 columns</p>\n",
       "</div>"
      ],
      "text/plain": [
       "   age  sex  trestbps  chol  fbs  restecg  thalach  exang  oldpeak  ca  ...  \\\n",
       "0   63    1       145   233    1        0      150      0      2.3   0  ...   \n",
       "1   37    1       130   250    0        1      187      0      3.5   0  ...   \n",
       "2   41    0       130   204    0        0      172      0      1.4   0  ...   \n",
       "3   56    1       120   236    0        1      178      0      0.8   0  ...   \n",
       "4   57    0       120   354    0        1      163      1      0.6   0  ...   \n",
       "\n",
       "   cp_1  cp_2  cp_3  thal_0  thal_1  thal_2  thal_3  slope_0  slope_1  slope_2  \n",
       "0     0     0     1       0       1       0       0        1        0        0  \n",
       "1     0     1     0       0       0       1       0        1        0        0  \n",
       "2     1     0     0       0       0       1       0        0        0        1  \n",
       "3     1     0     0       0       0       1       0        0        0        1  \n",
       "4     0     0     0       0       0       1       0        0        0        1  \n",
       "\n",
       "[5 rows x 22 columns]"
      ]
     },
     "execution_count": 4,
     "metadata": {},
     "output_type": "execute_result"
    }
   ],
   "source": [
    "df = pd.read_csv(\"heart.csv\")\n",
    "\n",
    "a = pd.get_dummies(df['cp'], prefix = \"cp\")\n",
    "b = pd.get_dummies(df['thal'], prefix = \"thal\")\n",
    "c = pd.get_dummies(df['slope'], prefix = \"slope\")\n",
    "\n",
    "frames = [df, a, b, c]\n",
    "df = pd.concat(frames, axis = 1)\n",
    "df = df.drop(columns = ['cp', 'thal', 'slope'])\n",
    "df.head()"
   ]
  },
  {
   "cell_type": "code",
   "execution_count": 8,
   "metadata": {},
   "outputs": [
    {
     "name": "stdout",
     "output_type": "stream",
     "text": [
      "(303, 21)\n",
      "(303,)\n"
     ]
    }
   ],
   "source": [
    "X = df.drop(['target'], axis = 1)\n",
    "y = df.target.values\n",
    "\n",
    "m = X.shape[0]\n",
    "num_entradas = 21\n",
    "num_ocultas = 7\n",
    "num_etiquetas = 2\n",
    "\n",
    "print(X.shape)\n",
    "print(y.shape)"
   ]
  },
  {
   "cell_type": "code",
   "execution_count": 23,
   "metadata": {},
   "outputs": [
    {
     "name": "stdout",
     "output_type": "stream",
     "text": [
      "(303, 2)\n"
     ]
    }
   ],
   "source": [
    "# Convertimos y en una matriz de 1 y 0\n",
    "y_0 = np.where(y == 0, 1, 0)\n",
    "y_1 = np.where(y == 1, 1, 0)\n",
    "Y = np.vstack((y_0, y_1))\n",
    "Y = Y.T\n",
    "print(Y.shape)"
   ]
  },
  {
   "cell_type": "code",
   "execution_count": 24,
   "metadata": {},
   "outputs": [],
   "source": [
    "def sigmoid(Z):\n",
    "    return 1 / (1 + np.exp(-Z))\n",
    "\n",
    "def sigmoid_derivative(Z):\n",
    "    return sigmoid(Z) * (1 - sigmoid(Z))\n",
    "\n",
    "def feed_forward(X, theta1, theta2):\n",
    "    a1 = np.hstack([np.ones([X.shape[0], 1]), X])\n",
    "    z2 = np.dot(a1, theta1.T)\n",
    "    a2 = np.hstack([np.ones([X.shape[0], 1]), sigmoid(z2)])\n",
    "    z3 = np.dot(a2, theta2.T)\n",
    "    a3 = sigmoid(z3)\n",
    "    return a1, z2, a2, z3, a3\n"
   ]
  },
  {
   "cell_type": "code",
   "execution_count": 25,
   "metadata": {},
   "outputs": [],
   "source": [
    "def back_propagation(params_rn, num_entradas, num_ocultas, num_etiquetas, X, Y, Lambda):\n",
    "    # Unroll thetas (neural network params)\n",
    "    theta1 = np.reshape(params_rn[:num_ocultas * (num_entradas + 1)], (num_ocultas, (num_entradas + 1)))\n",
    "    theta2 = np.reshape(params_rn[num_ocultas * (num_entradas + 1):], (num_etiquetas, (num_ocultas + 1)))\n",
    "\n",
    "    # Forward propogation (feed forward)\n",
    "    A1, Z2, A2, Z3, A3 = feed_forward(X, theta1, theta2)\n",
    "\n",
    "    # Cost function (without reg term)\n",
    "    cost_unreg_term = (-Y * np.log(A3) - (1 - Y) * np.log(1 - A3)).sum() / m\n",
    "\n",
    "    # Cost function (with reg term)\n",
    "    cost_reg_term = (Lambda / (2 * m)) * (np.sum(theta1[:, 1:] ** 2) + np.sum(theta2[:, 1:] ** 2))\n",
    "    cost = cost_unreg_term + cost_reg_term\n",
    "\n",
    "    # Numerical gradient (without reg term)\n",
    "    Theta1_grad = np.zeros(np.shape(theta1))\n",
    "    Theta2_grad = np.zeros(np.shape(theta2))\n",
    "    D3 = A3 - Y\n",
    "    D2 = np.dot(D3, theta2)\n",
    "    D2 = D2 * (np.hstack([np.ones([Z2.shape[0], 1]), sigmoid_derivative(Z2)]))\n",
    "    D2 = D2[:, 1:]\n",
    "    Theta1_grad = Theta1_grad + np.dot(A1.T, D2).T\n",
    "    Theta2_grad = Theta2_grad + np.dot(A2.T, D3).T\n",
    "\n",
    "    # Numerical gradient (with reg term)\n",
    "    Theta1_grad = Theta1_grad * (1 / m)\n",
    "    Theta2_grad = Theta2_grad * (1 / m)\n",
    "    Theta1_grad[:, 1:] = Theta1_grad[:, 1:] + (Lambda / m) * theta1[:, 1:]\n",
    "    Theta2_grad[:, 1:] = Theta2_grad[:, 1:] + (Lambda / m) * theta2[:, 1:]\n",
    "    grad = np.concatenate((np.ravel(Theta1_grad), np.ravel(Theta2_grad)))\n",
    "\n",
    "    return (cost, grad)"
   ]
  },
  {
   "cell_type": "code",
   "execution_count": 31,
   "metadata": {},
   "outputs": [],
   "source": [
    "def randomize_weights(L_in, L_out, Epsilon):\n",
    "    return np.random.uniform(-Epsilon, Epsilon, (L_out, 1 + L_in))\n",
    "\n",
    "def optimize(backprop, params_rn, input_layer_size, hidden_layer_size, num_labels, X, Y, Lambda, num_iter):\n",
    "    result = opt.minimize(fun=backprop, x0=params_rn,\n",
    "    args=(input_layer_size, hidden_layer_size, num_labels, X, Y, Lambda),\n",
    "    method='TNC', jac=True, options={'maxiter': num_iter})\n",
    "    return result.x\n",
    "\n",
    "def check_accuracy(y, out):\n",
    "    max_i = np.argmax(out, axis = 1) + 1\n",
    "    control = (y[:, 0] == max_i) \n",
    "    return 100 * np.size(np.where(control == True)) / y.shape[0]\n",
    "\n",
    "def neural_network_training(theta1, theta2, input_layer_size, hidden_layer_size, num_labels, X, Y, Epsilon, Lambda, num_iter):\n",
    "    # Init Neural Network params\n",
    "    theta1 = randomize_weights(theta1.shape[1] - 1, theta1.shape[0], Epsilon)\n",
    "    theta2 = randomize_weights(theta2.shape[1] - 1, theta2.shape[0], Epsilon)\n",
    "\n",
    "    # Train Neural Network\n",
    "    params_rn = np.concatenate([theta1.reshape(-1), theta2.reshape(-1)])\n",
    "    theta_opt = optimize(back_propagation, params_rn, input_layer_size, hidden_layer_size, num_labels, X, Y, Lambda, num_iter)\n",
    "    theta1_opt = np.reshape(theta_opt[:hidden_layer_size * (input_layer_size + 1)], (hidden_layer_size, (input_layer_size + 1)))\n",
    "    theta2_opt = np.reshape(theta_opt[hidden_layer_size * (input_layer_size + 1):], (num_labels, (hidden_layer_size + 1 )))\n",
    "\n",
    "    return check_accuracy(Y, feed_forward(X, theta1_opt, theta2_opt)[4])"
   ]
  },
  {
   "cell_type": "code",
   "execution_count": 55,
   "metadata": {},
   "outputs": [
    {
     "name": "stdout",
     "output_type": "stream",
     "text": [
      "Neural Network (Lambda:0.0001, Iters:750) success rate: 42.57425742574257%\n"
     ]
    }
   ],
   "source": [
    "percentage = neural_network_training(theta1, theta2, num_entradas, num_ocultas, num_etiquetas, X, Y, Epsilon, Lambda, num_iter)\n",
    "print(\"Neural Network (Lambda:{}, Iters:{}) success rate: {}%\".format(Lambda, num_iter, percentage))"
   ]
  },
  {
   "cell_type": "code",
   "execution_count": 74,
   "metadata": {},
   "outputs": [
    {
     "data": {
      "image/png": "[encoded data removed]",
      "text/plain": [
       "<Figure size 432x288 with 1 Axes>"
      ]
     },
     "metadata": {
      "needs_background": "light"
     },
     "output_type": "display_data"
    },
    {
     "name": "stdout",
     "output_type": "stream",
     "text": [
      "[40.59405941 37.62376238 35.64356436 30.0330033  27.06270627]\n"
     ]
    }
   ],
   "source": [
    "Epsilon = 0.12\n",
    "num_iter = 750\n",
    "\n",
    "theta1 = np.zeros((num_ocultas, num_entradas + 1))\n",
    "theta2 = np.zeros((num_etiquetas, num_ocultas + 1))\n",
    "\n",
    "lambdas = np.array([1, 3, 10, 30, 100])\n",
    "percentages = np.zeros(len(lambdas))\n",
    "\n",
    "for i in range(len(lambdas)):\n",
    "    percentages[i] = neural_network_training(theta1, theta2, num_entradas, num_ocultas, num_etiquetas, X, Y, Epsilon, lambdas[i], num_iter)\n",
    "\n",
    "plt.plot(lambdas, percentages)\n",
    "plt.xlabel(\"Lambda\")\n",
    "plt.ylabel(\"% de acierto\")\n",
    "plt.show()\n",
    "\n",
    "print(percentages)"
   ]
  },
  {
   "cell_type": "code",
   "execution_count": 83,
   "metadata": {},
   "outputs": [
    {
     "data": {
      "image/png": "[encoded data removed]",
      "text/plain": [
       "<Figure size 432x288 with 1 Axes>"
      ]
     },
     "metadata": {
      "needs_background": "light"
     },
     "output_type": "display_data"
    },
    {
     "name": "stdout",
     "output_type": "stream",
     "text": [
      "[42.24422442 43.23432343 42.24422442 44.22442244]\n"
     ]
    }
   ],
   "source": [
    "Epsilon = 0.12\n",
    "num_iter = 750\n",
    "\n",
    "theta1 = np.zeros((num_ocultas, num_entradas + 1))\n",
    "theta2 = np.zeros((num_etiquetas, num_ocultas + 1))\n",
    "\n",
    "lambdas = np.array([0.0001, 0.001, 0.01, 0.1])\n",
    "percentages = np.zeros(len(lambdas))\n",
    "\n",
    "for i in range(len(lambdas)):\n",
    "    percentages[i] = neural_network_training(theta1, theta2, num_entradas, num_ocultas, num_etiquetas, X, Y, Epsilon, lambdas[i], num_iter)\n",
    "\n",
    "plt.plot(lambdas, percentages)\n",
    "plt.xlabel(\"Lambda\")\n",
    "plt.ylabel(\"% de acierto\")\n",
    "plt.show()\n",
    "\n",
    "print(percentages)"
   ]
  },
  {
   "cell_type": "code",
   "execution_count": null,
   "metadata": {},
   "outputs": [],
   "source": []
  }
 ],
 "metadata": {
  "kernelspec": {
   "display_name": "Python 3",
   "language": "python",
   "name": "python3"
  },
  "language_info": {
   "codemirror_mode": {
    "name": "ipython",
    "version": 3
   },
   "file_extension": ".py",
   "mimetype": "text/x-python",
   "name": "python",
   "nbconvert_exporter": "python",
   "pygments_lexer": "ipython3",
   "version": "3.7.3"
  }
 },
 "nbformat": 4,
 "nbformat_minor": 2
}
