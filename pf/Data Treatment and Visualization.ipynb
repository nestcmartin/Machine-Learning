{
 "cells": [
  {
   "cell_type": "markdown",
   "metadata": {},
   "source": [
    "# Aprendizaje Automático - Proyecto Final\n",
    "## Tratamiento de los datos y visualización"
   ]
  },
  {
   "cell_type": "code",
   "execution_count": 1,
   "metadata": {},
   "outputs": [],
   "source": [
    "import numpy as np\n",
    "import pandas as pd\n",
    "\n",
    "import seaborn as sns\n",
    "import matplotlib.pyplot as plt\n",
    "\n",
    "from sklearn.linear_model import LogisticRegression\n",
    "from sklearn.model_selection import train_test_split\n",
    "\n",
    "pd.options.mode.chained_assignment = None"
   ]
  },
  {
   "cell_type": "markdown",
   "metadata": {},
   "source": [
    "Leemos el archivo y visualizamos las 10 primeras filas:"
   ]
  },
  {
   "cell_type": "code",
   "execution_count": 2,
   "metadata": {},
   "outputs": [
    {
     "data": {
      "text/html": [
       "<div>\n",
       "<style scoped>\n",
       "    .dataframe tbody tr th:only-of-type {\n",
       "        vertical-align: middle;\n",
       "    }\n",
       "\n",
       "    .dataframe tbody tr th {\n",
       "        vertical-align: top;\n",
       "    }\n",
       "\n",
       "    .dataframe thead th {\n",
       "        text-align: right;\n",
       "    }\n",
       "</style>\n",
       "<table border=\"1\" class=\"dataframe\">\n",
       "  <thead>\n",
       "    <tr style=\"text-align: right;\">\n",
       "      <th></th>\n",
       "      <th>age</th>\n",
       "      <th>sex</th>\n",
       "      <th>cp</th>\n",
       "      <th>trestbps</th>\n",
       "      <th>chol</th>\n",
       "      <th>fbs</th>\n",
       "      <th>restecg</th>\n",
       "      <th>thalach</th>\n",
       "      <th>exang</th>\n",
       "      <th>oldpeak</th>\n",
       "      <th>slope</th>\n",
       "      <th>ca</th>\n",
       "      <th>thal</th>\n",
       "      <th>target</th>\n",
       "    </tr>\n",
       "  </thead>\n",
       "  <tbody>\n",
       "    <tr>\n",
       "      <th>0</th>\n",
       "      <td>63</td>\n",
       "      <td>1</td>\n",
       "      <td>3</td>\n",
       "      <td>145</td>\n",
       "      <td>233</td>\n",
       "      <td>1</td>\n",
       "      <td>0</td>\n",
       "      <td>150</td>\n",
       "      <td>0</td>\n",
       "      <td>2.3</td>\n",
       "      <td>0</td>\n",
       "      <td>0</td>\n",
       "      <td>1</td>\n",
       "      <td>1</td>\n",
       "    </tr>\n",
       "    <tr>\n",
       "      <th>1</th>\n",
       "      <td>37</td>\n",
       "      <td>1</td>\n",
       "      <td>2</td>\n",
       "      <td>130</td>\n",
       "      <td>250</td>\n",
       "      <td>0</td>\n",
       "      <td>1</td>\n",
       "      <td>187</td>\n",
       "      <td>0</td>\n",
       "      <td>3.5</td>\n",
       "      <td>0</td>\n",
       "      <td>0</td>\n",
       "      <td>2</td>\n",
       "      <td>1</td>\n",
       "    </tr>\n",
       "    <tr>\n",
       "      <th>2</th>\n",
       "      <td>41</td>\n",
       "      <td>0</td>\n",
       "      <td>1</td>\n",
       "      <td>130</td>\n",
       "      <td>204</td>\n",
       "      <td>0</td>\n",
       "      <td>0</td>\n",
       "      <td>172</td>\n",
       "      <td>0</td>\n",
       "      <td>1.4</td>\n",
       "      <td>2</td>\n",
       "      <td>0</td>\n",
       "      <td>2</td>\n",
       "      <td>1</td>\n",
       "    </tr>\n",
       "    <tr>\n",
       "      <th>3</th>\n",
       "      <td>56</td>\n",
       "      <td>1</td>\n",
       "      <td>1</td>\n",
       "      <td>120</td>\n",
       "      <td>236</td>\n",
       "      <td>0</td>\n",
       "      <td>1</td>\n",
       "      <td>178</td>\n",
       "      <td>0</td>\n",
       "      <td>0.8</td>\n",
       "      <td>2</td>\n",
       "      <td>0</td>\n",
       "      <td>2</td>\n",
       "      <td>1</td>\n",
       "    </tr>\n",
       "    <tr>\n",
       "      <th>4</th>\n",
       "      <td>57</td>\n",
       "      <td>0</td>\n",
       "      <td>0</td>\n",
       "      <td>120</td>\n",
       "      <td>354</td>\n",
       "      <td>0</td>\n",
       "      <td>1</td>\n",
       "      <td>163</td>\n",
       "      <td>1</td>\n",
       "      <td>0.6</td>\n",
       "      <td>2</td>\n",
       "      <td>0</td>\n",
       "      <td>2</td>\n",
       "      <td>1</td>\n",
       "    </tr>\n",
       "  </tbody>\n",
       "</table>\n",
       "</div>"
      ],
      "text/plain": [
       "   age  sex  cp  trestbps  chol  fbs  restecg  thalach  exang  oldpeak  slope  \\\n",
       "0   63    1   3       145   233    1        0      150      0      2.3      0   \n",
       "1   37    1   2       130   250    0        1      187      0      3.5      0   \n",
       "2   41    0   1       130   204    0        0      172      0      1.4      2   \n",
       "3   56    1   1       120   236    0        1      178      0      0.8      2   \n",
       "4   57    0   0       120   354    0        1      163      1      0.6      2   \n",
       "\n",
       "   ca  thal  target  \n",
       "0   0     1       1  \n",
       "1   0     2       1  \n",
       "2   0     2       1  \n",
       "3   0     2       1  \n",
       "4   0     2       1  "
      ]
     },
     "execution_count": 2,
     "metadata": {},
     "output_type": "execute_result"
    }
   ],
   "source": [
    "dt = pd.read_csv(\"heart.csv\")\n",
    "dt.head()"
   ]
  },
  {
   "cell_type": "markdown",
   "metadata": {},
   "source": [
    "**Cocinamos** los datos:"
   ]
  },
  {
   "cell_type": "code",
   "execution_count": 3,
   "metadata": {},
   "outputs": [
    {
     "data": {
      "text/html": [
       "<div>\n",
       "<style scoped>\n",
       "    .dataframe tbody tr th:only-of-type {\n",
       "        vertical-align: middle;\n",
       "    }\n",
       "\n",
       "    .dataframe tbody tr th {\n",
       "        vertical-align: top;\n",
       "    }\n",
       "\n",
       "    .dataframe thead th {\n",
       "        text-align: right;\n",
       "    }\n",
       "</style>\n",
       "<table border=\"1\" class=\"dataframe\">\n",
       "  <thead>\n",
       "    <tr style=\"text-align: right;\">\n",
       "      <th></th>\n",
       "      <th>edad</th>\n",
       "      <th>sexo</th>\n",
       "      <th>dolor</th>\n",
       "      <th>tension</th>\n",
       "      <th>colesterol</th>\n",
       "      <th>glucemia</th>\n",
       "      <th>ecg</th>\n",
       "      <th>frec_cardiaca</th>\n",
       "      <th>angina_ej</th>\n",
       "      <th>depresion_st</th>\n",
       "      <th>pendiente_st</th>\n",
       "      <th>num_valvulas</th>\n",
       "      <th>test_talio</th>\n",
       "      <th>enfermedad</th>\n",
       "    </tr>\n",
       "  </thead>\n",
       "  <tbody>\n",
       "    <tr>\n",
       "      <th>0</th>\n",
       "      <td>63</td>\n",
       "      <td>varon</td>\n",
       "      <td>angina tipica</td>\n",
       "      <td>145</td>\n",
       "      <td>233</td>\n",
       "      <td>&gt;120 mg/ml</td>\n",
       "      <td>hipertrofia VI</td>\n",
       "      <td>150</td>\n",
       "      <td>no</td>\n",
       "      <td>2.3</td>\n",
       "      <td>decreciente</td>\n",
       "      <td>0</td>\n",
       "      <td>defecto permanente</td>\n",
       "      <td>si</td>\n",
       "    </tr>\n",
       "    <tr>\n",
       "      <th>1</th>\n",
       "      <td>37</td>\n",
       "      <td>varon</td>\n",
       "      <td>no anginoso</td>\n",
       "      <td>130</td>\n",
       "      <td>250</td>\n",
       "      <td>&lt;120 mg/ml</td>\n",
       "      <td>normal</td>\n",
       "      <td>187</td>\n",
       "      <td>no</td>\n",
       "      <td>3.5</td>\n",
       "      <td>decreciente</td>\n",
       "      <td>0</td>\n",
       "      <td>normal</td>\n",
       "      <td>si</td>\n",
       "    </tr>\n",
       "    <tr>\n",
       "      <th>2</th>\n",
       "      <td>41</td>\n",
       "      <td>mujer</td>\n",
       "      <td>angina atipica</td>\n",
       "      <td>130</td>\n",
       "      <td>204</td>\n",
       "      <td>&lt;120 mg/ml</td>\n",
       "      <td>hipertrofia VI</td>\n",
       "      <td>172</td>\n",
       "      <td>no</td>\n",
       "      <td>1.4</td>\n",
       "      <td>creciente</td>\n",
       "      <td>0</td>\n",
       "      <td>normal</td>\n",
       "      <td>si</td>\n",
       "    </tr>\n",
       "    <tr>\n",
       "      <th>3</th>\n",
       "      <td>56</td>\n",
       "      <td>varon</td>\n",
       "      <td>angina atipica</td>\n",
       "      <td>120</td>\n",
       "      <td>236</td>\n",
       "      <td>&lt;120 mg/ml</td>\n",
       "      <td>normal</td>\n",
       "      <td>178</td>\n",
       "      <td>no</td>\n",
       "      <td>0.8</td>\n",
       "      <td>creciente</td>\n",
       "      <td>0</td>\n",
       "      <td>normal</td>\n",
       "      <td>si</td>\n",
       "    </tr>\n",
       "    <tr>\n",
       "      <th>4</th>\n",
       "      <td>57</td>\n",
       "      <td>mujer</td>\n",
       "      <td>asintomatico</td>\n",
       "      <td>120</td>\n",
       "      <td>354</td>\n",
       "      <td>&lt;120 mg/ml</td>\n",
       "      <td>normal</td>\n",
       "      <td>163</td>\n",
       "      <td>si</td>\n",
       "      <td>0.6</td>\n",
       "      <td>creciente</td>\n",
       "      <td>0</td>\n",
       "      <td>normal</td>\n",
       "      <td>si</td>\n",
       "    </tr>\n",
       "  </tbody>\n",
       "</table>\n",
       "</div>"
      ],
      "text/plain": [
       "   edad   sexo           dolor  tension  colesterol    glucemia  \\\n",
       "0    63  varon   angina tipica      145         233  >120 mg/ml   \n",
       "1    37  varon     no anginoso      130         250  <120 mg/ml   \n",
       "2    41  mujer  angina atipica      130         204  <120 mg/ml   \n",
       "3    56  varon  angina atipica      120         236  <120 mg/ml   \n",
       "4    57  mujer    asintomatico      120         354  <120 mg/ml   \n",
       "\n",
       "              ecg  frec_cardiaca angina_ej  depresion_st pendiente_st  \\\n",
       "0  hipertrofia VI            150        no           2.3  decreciente   \n",
       "1          normal            187        no           3.5  decreciente   \n",
       "2  hipertrofia VI            172        no           1.4    creciente   \n",
       "3          normal            178        no           0.8    creciente   \n",
       "4          normal            163        si           0.6    creciente   \n",
       "\n",
       "   num_valvulas          test_talio enfermedad  \n",
       "0             0  defecto permanente         si  \n",
       "1             0              normal         si  \n",
       "2             0              normal         si  \n",
       "3             0              normal         si  \n",
       "4             0              normal         si  "
      ]
     },
     "execution_count": 3,
     "metadata": {},
     "output_type": "execute_result"
    }
   ],
   "source": [
    "dt.columns = ['edad', 'sexo', 'dolor', \n",
    "              'tension', 'colesterol', 'glucemia', \n",
    "              'ecg', 'frec_cardiaca', 'angina_ej', \n",
    "              'depresion_st', 'pendiente_st', \n",
    "              'num_valvulas', 'test_talio', \n",
    "              'enfermedad']\n",
    "\n",
    "dt['sexo'][dt['sexo'] == 0] = 'mujer'\n",
    "dt['sexo'][dt['sexo'] == 1] = 'varon'\n",
    "dt['dolor'][dt['dolor'] == 0] = 'asintomatico'\n",
    "dt['dolor'][dt['dolor'] == 1] = 'angina atipica'\n",
    "dt['dolor'][dt['dolor'] == 2] = 'no anginoso'\n",
    "dt['dolor'][dt['dolor'] == 3] = 'angina tipica'\n",
    "dt['glucemia'][dt['glucemia'] == 0] = '<120 mg/ml'\n",
    "dt['glucemia'][dt['glucemia'] == 1] = '>120 mg/ml'\n",
    "dt['ecg'][dt['ecg'] == 0] = 'hipertrofia VI'\n",
    "dt['ecg'][dt['ecg'] == 1] = 'normal'\n",
    "dt['ecg'][dt['ecg'] == 2] = 'anomalia ST-T'\n",
    "dt['angina_ej'][dt['angina_ej'] == 0] = 'no'\n",
    "dt['angina_ej'][dt['angina_ej'] == 1] = 'si'\n",
    "dt['pendiente_st'][dt['pendiente_st'] == 0] = 'decreciente'\n",
    "dt['pendiente_st'][dt['pendiente_st'] == 1] = 'plana'\n",
    "dt['pendiente_st'][dt['pendiente_st'] == 2] = 'creciente'\n",
    "dt['test_talio'][dt['test_talio'] == 1] = 'defecto permanente'\n",
    "dt['test_talio'][dt['test_talio'] == 2] = 'normal'\n",
    "dt['test_talio'][dt['test_talio'] == 3] = 'defecto reversible'\n",
    "dt['enfermedad'][dt['enfermedad'] == 0] = 'no'\n",
    "dt['enfermedad'][dt['enfermedad'] == 1] = 'si'\n",
    "\n",
    "dt.head()"
   ]
  },
  {
   "cell_type": "code",
   "execution_count": 4,
   "metadata": {},
   "outputs": [
    {
     "data": {
      "text/plain": [
       "edad               int64\n",
       "sexo              object\n",
       "dolor             object\n",
       "tension            int64\n",
       "colesterol         int64\n",
       "glucemia          object\n",
       "ecg               object\n",
       "frec_cardiaca      int64\n",
       "angina_ej         object\n",
       "depresion_st     float64\n",
       "pendiente_st      object\n",
       "num_valvulas       int64\n",
       "test_talio        object\n",
       "enfermedad        object\n",
       "dtype: object"
      ]
     },
     "execution_count": 4,
     "metadata": {},
     "output_type": "execute_result"
    }
   ],
   "source": [
    "dt['sexo'] = dt['sexo'].astype('object')\n",
    "dt['dolor'] = dt['dolor'].astype('object')\n",
    "dt['glucemia'] = dt['glucemia'].astype('object')\n",
    "dt['ecg'] = dt['ecg'].astype('object')\n",
    "dt['angina_ej'] = dt['angina_ej'].astype('object')\n",
    "dt['pendiente_st'] = dt['pendiente_st'].astype('object')\n",
    "dt['test_talio'] = dt['test_talio'].astype('object')\n",
    "\n",
    "dt.dtypes"
   ]
  },
  {
   "cell_type": "markdown",
   "metadata": {},
   "source": [
    "Con esto, podemos ver cuántos pacientes de la muestra se ven afectados por una **enfermedad cardíaca**:"
   ]
  },
  {
   "cell_type": "code",
   "execution_count": 5,
   "metadata": {},
   "outputs": [
    {
     "data": {
      "image/png": "[encoded data removed]",
      "text/plain": [
       "<Figure size 432x288 with 1 Axes>"
      ]
     },
     "metadata": {},
     "output_type": "display_data"
    }
   ],
   "source": [
    "sns.countplot(x=\"enfermedad\", data=dt, palette=\"bwr\")\n",
    "plt.ylabel(\"Pacientes\")\n",
    "plt.xlabel(\"Enfermedad\")\n",
    "plt.show()"
   ]
  },
  {
   "cell_type": "code",
   "execution_count": 6,
   "metadata": {},
   "outputs": [
    {
     "data": {
      "text/plain": [
       "si    165\n",
       "no    138\n",
       "Name: enfermedad, dtype: int64"
      ]
     },
     "execution_count": 6,
     "metadata": {},
     "output_type": "execute_result"
    }
   ],
   "source": [
    "dt.enfermedad.value_counts()"
   ]
  },
  {
   "cell_type": "code",
   "execution_count": 7,
   "metadata": {},
   "outputs": [
    {
     "name": "stdout",
     "output_type": "stream",
     "text": [
      "Porcentaje de pacientes que no padecen una enfermedad cardíaca: 45.54%\n",
      "Porcentaje de pacientes que sí padecen una enfermedad cardíaca: 54.46%\n"
     ]
    }
   ],
   "source": [
    "countNoDisease = len(dt[dt.enfermedad == 'no'])\n",
    "countHaveDisease = len(dt[dt.enfermedad == 'si'])\n",
    "print(\"Porcentaje de pacientes que no padecen una enfermedad cardíaca: {:.2f}%\".format((countNoDisease / (len(dt.enfermedad))*100)))\n",
    "print(\"Porcentaje de pacientes que sí padecen una enfermedad cardíaca: {:.2f}%\".format((countHaveDisease / (len(dt.enfermedad))*100)))"
   ]
  },
  {
   "cell_type": "markdown",
   "metadata": {},
   "source": [
    "Ahora, podemos disgregar la muestra por sexos:"
   ]
  },
  {
   "cell_type": "code",
   "execution_count": 8,
   "metadata": {},
   "outputs": [
    {
     "data": {
      "image/png": "[encoded data removed]",
      "text/plain": [
       "<Figure size 432x288 with 1 Axes>"
      ]
     },
     "metadata": {},
     "output_type": "display_data"
    }
   ],
   "source": [
    "sns.countplot(x='sexo', data=dt, palette=\"mako_r\")\n",
    "plt.ylabel(\"Pacientes\")\n",
    "plt.xlabel(\"Sexo\")\n",
    "plt.show()"
   ]
  },
  {
   "cell_type": "code",
   "execution_count": 9,
   "metadata": {},
   "outputs": [
    {
     "data": {
      "text/plain": [
       "varon    207\n",
       "mujer     96\n",
       "Name: sexo, dtype: int64"
      ]
     },
     "execution_count": 9,
     "metadata": {},
     "output_type": "execute_result"
    }
   ],
   "source": [
    "dt.sexo.value_counts()"
   ]
  },
  {
   "cell_type": "code",
   "execution_count": 10,
   "metadata": {},
   "outputs": [
    {
     "name": "stdout",
     "output_type": "stream",
     "text": [
      "Porcentaje de pacientes mujeres: 31.68%\n",
      "Porcentaje de pacientes varones: 68.32%\n"
     ]
    }
   ],
   "source": [
    "countWomen = len(dt[dt.sexo == 'mujer'])\n",
    "countMen = len(dt[dt.sexo == 'varon'])\n",
    "print(\"Porcentaje de pacientes mujeres: {:.2f}%\".format((countWomen / (len(dt.sexo))*100)))\n",
    "print(\"Porcentaje de pacientes varones: {:.2f}%\".format((countMen / (len(dt.sexo))*100)))"
   ]
  },
  {
   "cell_type": "markdown",
   "metadata": {},
   "source": [
    "También podemos visualizar los **valores medios** de algunas categorías en relación a los pacientes que tienen o no enfermedad:"
   ]
  },
  {
   "cell_type": "code",
   "execution_count": 11,
   "metadata": {},
   "outputs": [
    {
     "data": {
      "text/html": [
       "<div>\n",
       "<style scoped>\n",
       "    .dataframe tbody tr th:only-of-type {\n",
       "        vertical-align: middle;\n",
       "    }\n",
       "\n",
       "    .dataframe tbody tr th {\n",
       "        vertical-align: top;\n",
       "    }\n",
       "\n",
       "    .dataframe thead th {\n",
       "        text-align: right;\n",
       "    }\n",
       "</style>\n",
       "<table border=\"1\" class=\"dataframe\">\n",
       "  <thead>\n",
       "    <tr style=\"text-align: right;\">\n",
       "      <th></th>\n",
       "      <th>edad</th>\n",
       "      <th>tension</th>\n",
       "      <th>colesterol</th>\n",
       "      <th>frec_cardiaca</th>\n",
       "      <th>depresion_st</th>\n",
       "      <th>num_valvulas</th>\n",
       "    </tr>\n",
       "    <tr>\n",
       "      <th>enfermedad</th>\n",
       "      <th></th>\n",
       "      <th></th>\n",
       "      <th></th>\n",
       "      <th></th>\n",
       "      <th></th>\n",
       "      <th></th>\n",
       "    </tr>\n",
       "  </thead>\n",
       "  <tbody>\n",
       "    <tr>\n",
       "      <th>no</th>\n",
       "      <td>56.601449</td>\n",
       "      <td>134.398551</td>\n",
       "      <td>251.086957</td>\n",
       "      <td>139.101449</td>\n",
       "      <td>1.585507</td>\n",
       "      <td>1.166667</td>\n",
       "    </tr>\n",
       "    <tr>\n",
       "      <th>si</th>\n",
       "      <td>52.496970</td>\n",
       "      <td>129.303030</td>\n",
       "      <td>242.230303</td>\n",
       "      <td>158.466667</td>\n",
       "      <td>0.583030</td>\n",
       "      <td>0.363636</td>\n",
       "    </tr>\n",
       "  </tbody>\n",
       "</table>\n",
       "</div>"
      ],
      "text/plain": [
       "                 edad     tension  colesterol  frec_cardiaca  depresion_st  \\\n",
       "enfermedad                                                                   \n",
       "no          56.601449  134.398551  251.086957     139.101449      1.585507   \n",
       "si          52.496970  129.303030  242.230303     158.466667      0.583030   \n",
       "\n",
       "            num_valvulas  \n",
       "enfermedad                \n",
       "no              1.166667  \n",
       "si              0.363636  "
      ]
     },
     "execution_count": 11,
     "metadata": {},
     "output_type": "execute_result"
    }
   ],
   "source": [
    "dt.groupby('enfermedad').mean()"
   ]
  },
  {
   "cell_type": "markdown",
   "metadata": {},
   "source": [
    "Podemos visualizar la frecuencia de enfermedades cardíacas en relación a la edad de los pacientes:"
   ]
  },
  {
   "cell_type": "code",
   "execution_count": 12,
   "metadata": {},
   "outputs": [
    {
     "data": {
      "image/png": "[encoded data removed]",
      "text/plain": [
       "<Figure size 1440x432 with 1 Axes>"
      ]
     },
     "metadata": {},
     "output_type": "display_data"
    }
   ],
   "source": [
    "pd.crosstab(dt.edad, dt.enfermedad).plot(kind=\"bar\", figsize=(20,6))\n",
    "plt.xlabel('Edad del Paciente')\n",
    "plt.ylabel('Frecuencia de Enfermedad Cardíaca')\n",
    "plt.show()"
   ]
  },
  {
   "cell_type": "markdown",
   "metadata": {},
   "source": [
    "Podemos visualizar la frecuencia de enfermedades cardíacas en relación al sexo de los pacientes:"
   ]
  },
  {
   "cell_type": "code",
   "execution_count": 13,
   "metadata": {},
   "outputs": [
    {
     "data": {
      "image/png": "[encoded data removed]",
      "text/plain": [
       "<Figure size 1080x432 with 1 Axes>"
      ]
     },
     "metadata": {},
     "output_type": "display_data"
    }
   ],
   "source": [
    "pd.crosstab(dt.sexo, dt.enfermedad).plot(kind=\"bar\", figsize=(15,6), color=['#1CA53B','#AA1111'])\n",
    "plt.xlabel('Sexo del Paciente')\n",
    "plt.ylabel('Frecuencia de Enfermedad Cardíaca')\n",
    "plt.xticks(rotation=0)\n",
    "plt.show()"
   ]
  },
  {
   "cell_type": "markdown",
   "metadata": {},
   "source": [
    "Podemos visualizar la frecuencia cardíaca en relación a la edad del paciente:"
   ]
  },
  {
   "cell_type": "code",
   "execution_count": 14,
   "metadata": {},
   "outputs": [
    {
     "data": {
      "image/png": "[encoded data removed]",
      "text/plain": [
       "<Figure size 432x288 with 1 Axes>"
      ]
     },
     "metadata": {},
     "output_type": "display_data"
    }
   ],
   "source": [
    "plt.scatter(x=dt.edad[dt.enfermedad=='si'], y=dt.frec_cardiaca[(dt.enfermedad=='si')], c=\"red\")\n",
    "plt.scatter(x=dt.edad[dt.enfermedad=='no'], y=dt.frec_cardiaca[(dt.enfermedad=='no')])\n",
    "plt.legend([\"Enfermo\", \"Sano\"])\n",
    "plt.xlabel(\"Edad\")\n",
    "plt.ylabel(\"Frecuncia Cardiaca\")\n",
    "plt.show()"
   ]
  },
  {
   "cell_type": "markdown",
   "metadata": {},
   "source": [
    "Podemos visualizar la frecuencia de enfermedades cardíacas en relación a la glucemia en ayunas de los pacientes:"
   ]
  },
  {
   "cell_type": "code",
   "execution_count": 15,
   "metadata": {},
   "outputs": [
    {
     "data": {
      "image/png": "[encoded data removed]",
      "text/plain": [
       "<Figure size 1080x432 with 1 Axes>"
      ]
     },
     "metadata": {},
     "output_type": "display_data"
    }
   ],
   "source": [
    "pd.crosstab(dt.glucemia, dt.enfermedad).plot(kind=\"bar\", figsize=(15,6),color=['#FFC300','#581845'])\n",
    "plt.xlabel('Glucemia en ayunas')\n",
    "plt.ylabel('Frecuencia de Enfermedad Cardíaca o no')\n",
    "plt.xticks(rotation = 0)\n",
    "plt.show()"
   ]
  },
  {
   "cell_type": "markdown",
   "metadata": {},
   "source": [
    "Podemos visualizar la frecuencia de enfermedades cardíacas en relación al tipo de dolor de pecho de los pacientes:"
   ]
  },
  {
   "cell_type": "code",
   "execution_count": 16,
   "metadata": {},
   "outputs": [
    {
     "data": {
      "image/png": "[encoded data removed]",
      "text/plain": [
       "<Figure size 1080x432 with 1 Axes>"
      ]
     },
     "metadata": {},
     "output_type": "display_data"
    }
   ],
   "source": [
    "pd.crosstab(dt.dolor, dt.enfermedad).plot(kind=\"bar\", figsize=(15,6),color=['#11A5AA','#AA1190'])\n",
    "plt.xlabel('Tipo de Dolor de Pecho')\n",
    "plt.ylabel('Frecuencia de Enfermedad Cardíaca o no')\n",
    "plt.xticks(rotation = 0)\n",
    "plt.show()"
   ]
  },
  {
   "cell_type": "markdown",
   "metadata": {},
   "source": [
    "Ahora, desechamos las variables categóricas:"
   ]
  },
  {
   "cell_type": "code",
   "execution_count": 17,
   "metadata": {},
   "outputs": [
    {
     "data": {
      "text/html": [
       "<div>\n",
       "<style scoped>\n",
       "    .dataframe tbody tr th:only-of-type {\n",
       "        vertical-align: middle;\n",
       "    }\n",
       "\n",
       "    .dataframe tbody tr th {\n",
       "        vertical-align: top;\n",
       "    }\n",
       "\n",
       "    .dataframe thead th {\n",
       "        text-align: right;\n",
       "    }\n",
       "</style>\n",
       "<table border=\"1\" class=\"dataframe\">\n",
       "  <thead>\n",
       "    <tr style=\"text-align: right;\">\n",
       "      <th></th>\n",
       "      <th>edad</th>\n",
       "      <th>tension</th>\n",
       "      <th>colesterol</th>\n",
       "      <th>frec_cardiaca</th>\n",
       "      <th>depresion_st</th>\n",
       "      <th>num_valvulas</th>\n",
       "      <th>sexo_varon</th>\n",
       "      <th>dolor_angina tipica</th>\n",
       "      <th>dolor_asintomatico</th>\n",
       "      <th>dolor_no anginoso</th>\n",
       "      <th>glucemia_&gt;120 mg/ml</th>\n",
       "      <th>ecg_hipertrofia VI</th>\n",
       "      <th>ecg_normal</th>\n",
       "      <th>angina_ej_si</th>\n",
       "      <th>pendiente_st_decreciente</th>\n",
       "      <th>pendiente_st_plana</th>\n",
       "      <th>test_talio_defecto permanente</th>\n",
       "      <th>test_talio_defecto reversible</th>\n",
       "      <th>test_talio_normal</th>\n",
       "      <th>enfermedad_si</th>\n",
       "    </tr>\n",
       "  </thead>\n",
       "  <tbody>\n",
       "    <tr>\n",
       "      <th>0</th>\n",
       "      <td>63</td>\n",
       "      <td>145</td>\n",
       "      <td>233</td>\n",
       "      <td>150</td>\n",
       "      <td>2.3</td>\n",
       "      <td>0</td>\n",
       "      <td>1</td>\n",
       "      <td>1</td>\n",
       "      <td>0</td>\n",
       "      <td>0</td>\n",
       "      <td>1</td>\n",
       "      <td>1</td>\n",
       "      <td>0</td>\n",
       "      <td>0</td>\n",
       "      <td>1</td>\n",
       "      <td>0</td>\n",
       "      <td>1</td>\n",
       "      <td>0</td>\n",
       "      <td>0</td>\n",
       "      <td>1</td>\n",
       "    </tr>\n",
       "    <tr>\n",
       "      <th>1</th>\n",
       "      <td>37</td>\n",
       "      <td>130</td>\n",
       "      <td>250</td>\n",
       "      <td>187</td>\n",
       "      <td>3.5</td>\n",
       "      <td>0</td>\n",
       "      <td>1</td>\n",
       "      <td>0</td>\n",
       "      <td>0</td>\n",
       "      <td>1</td>\n",
       "      <td>0</td>\n",
       "      <td>0</td>\n",
       "      <td>1</td>\n",
       "      <td>0</td>\n",
       "      <td>1</td>\n",
       "      <td>0</td>\n",
       "      <td>0</td>\n",
       "      <td>0</td>\n",
       "      <td>1</td>\n",
       "      <td>1</td>\n",
       "    </tr>\n",
       "    <tr>\n",
       "      <th>2</th>\n",
       "      <td>41</td>\n",
       "      <td>130</td>\n",
       "      <td>204</td>\n",
       "      <td>172</td>\n",
       "      <td>1.4</td>\n",
       "      <td>0</td>\n",
       "      <td>0</td>\n",
       "      <td>0</td>\n",
       "      <td>0</td>\n",
       "      <td>0</td>\n",
       "      <td>0</td>\n",
       "      <td>1</td>\n",
       "      <td>0</td>\n",
       "      <td>0</td>\n",
       "      <td>0</td>\n",
       "      <td>0</td>\n",
       "      <td>0</td>\n",
       "      <td>0</td>\n",
       "      <td>1</td>\n",
       "      <td>1</td>\n",
       "    </tr>\n",
       "    <tr>\n",
       "      <th>3</th>\n",
       "      <td>56</td>\n",
       "      <td>120</td>\n",
       "      <td>236</td>\n",
       "      <td>178</td>\n",
       "      <td>0.8</td>\n",
       "      <td>0</td>\n",
       "      <td>1</td>\n",
       "      <td>0</td>\n",
       "      <td>0</td>\n",
       "      <td>0</td>\n",
       "      <td>0</td>\n",
       "      <td>0</td>\n",
       "      <td>1</td>\n",
       "      <td>0</td>\n",
       "      <td>0</td>\n",
       "      <td>0</td>\n",
       "      <td>0</td>\n",
       "      <td>0</td>\n",
       "      <td>1</td>\n",
       "      <td>1</td>\n",
       "    </tr>\n",
       "    <tr>\n",
       "      <th>4</th>\n",
       "      <td>57</td>\n",
       "      <td>120</td>\n",
       "      <td>354</td>\n",
       "      <td>163</td>\n",
       "      <td>0.6</td>\n",
       "      <td>0</td>\n",
       "      <td>0</td>\n",
       "      <td>0</td>\n",
       "      <td>1</td>\n",
       "      <td>0</td>\n",
       "      <td>0</td>\n",
       "      <td>0</td>\n",
       "      <td>1</td>\n",
       "      <td>1</td>\n",
       "      <td>0</td>\n",
       "      <td>0</td>\n",
       "      <td>0</td>\n",
       "      <td>0</td>\n",
       "      <td>1</td>\n",
       "      <td>1</td>\n",
       "    </tr>\n",
       "  </tbody>\n",
       "</table>\n",
       "</div>"
      ],
      "text/plain": [
       "   edad  tension  colesterol  frec_cardiaca  depresion_st  num_valvulas  \\\n",
       "0    63      145         233            150           2.3             0   \n",
       "1    37      130         250            187           3.5             0   \n",
       "2    41      130         204            172           1.4             0   \n",
       "3    56      120         236            178           0.8             0   \n",
       "4    57      120         354            163           0.6             0   \n",
       "\n",
       "   sexo_varon  dolor_angina tipica  dolor_asintomatico  dolor_no anginoso  \\\n",
       "0           1                    1                   0                  0   \n",
       "1           1                    0                   0                  1   \n",
       "2           0                    0                   0                  0   \n",
       "3           1                    0                   0                  0   \n",
       "4           0                    0                   1                  0   \n",
       "\n",
       "   glucemia_>120 mg/ml  ecg_hipertrofia VI  ecg_normal  angina_ej_si  \\\n",
       "0                    1                   1           0             0   \n",
       "1                    0                   0           1             0   \n",
       "2                    0                   1           0             0   \n",
       "3                    0                   0           1             0   \n",
       "4                    0                   0           1             1   \n",
       "\n",
       "   pendiente_st_decreciente  pendiente_st_plana  \\\n",
       "0                         1                   0   \n",
       "1                         1                   0   \n",
       "2                         0                   0   \n",
       "3                         0                   0   \n",
       "4                         0                   0   \n",
       "\n",
       "   test_talio_defecto permanente  test_talio_defecto reversible  \\\n",
       "0                              1                              0   \n",
       "1                              0                              0   \n",
       "2                              0                              0   \n",
       "3                              0                              0   \n",
       "4                              0                              0   \n",
       "\n",
       "   test_talio_normal  enfermedad_si  \n",
       "0                  0              1  \n",
       "1                  1              1  \n",
       "2                  1              1  \n",
       "3                  1              1  \n",
       "4                  1              1  "
      ]
     },
     "execution_count": 17,
     "metadata": {},
     "output_type": "execute_result"
    }
   ],
   "source": [
    "y = dt.enfermedad.values\n",
    "\n",
    "dt = pd.get_dummies(dt, drop_first=True)\n",
    "dt.head()"
   ]
  }
 ],
 "metadata": {
  "kernelspec": {
   "display_name": "Python 3",
   "language": "python",
   "name": "python3"
  },
  "language_info": {
   "codemirror_mode": {
    "name": "ipython",
    "version": 3
   },
   "file_extension": ".py",
   "mimetype": "text/x-python",
   "name": "python",
   "nbconvert_exporter": "python",
   "pygments_lexer": "ipython3",
   "version": "3.6.5"
  }
 },
 "nbformat": 4,
 "nbformat_minor": 2
}
