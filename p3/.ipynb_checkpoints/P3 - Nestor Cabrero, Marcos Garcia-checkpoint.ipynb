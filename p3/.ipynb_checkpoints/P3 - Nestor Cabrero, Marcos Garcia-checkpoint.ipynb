{
 "cells": [
  {
   "cell_type": "markdown",
   "metadata": {},
   "source": [
    "# Práctica 3: Regresión logística multi-clase y redes neuronales\n",
    "\n",
    "En esta práctica hemos implementado el algoritmo de regresión logística multi-clase y un primer acercamiento a una red neuronal básica.\n",
    "\n",
    "\n",
    "## Regresión logística multi-clase\n",
    "\n",
    "El objetivo de esta primera parte de la práctica es aplicar regresión logística multi-clase al\n",
    "reconocimiento de imágenes que representan números escritos a mano. Para ello vamos a utilizar los siguientes módulos:\n"
   ]
  },
  {
   "cell_type": "code",
   "execution_count": 1,
   "metadata": {},
   "outputs": [],
   "source": [
    "import numpy as np\n",
    "import scipy.optimize as opt\n",
    "from scipy.io import loadmat\n",
    "from sklearn.preprocessing import PolynomialFeatures\n",
    "\n",
    "from matplotlib import cm\n",
    "import matplotlib.pyplot as plt\n",
    "from mpl_toolkits.mplot3d import Axes3D\n",
    "from matplotlib.ticker import LinearLocator, FormatStrFormatter"
   ]
  },
  {
   "cell_type": "markdown",
   "metadata": {},
   "source": [
    "\n",
    "\n",
    "### Visualización de los datos\n",
    "\n",
    "Utilizamos una función auxiliar para cargar los datos de _ex3data1.mat_ y visualizamos una selección aleatoria de los mismos para comprobar que se han cargado adecuadamente:\n"
   ]
  },
  {
   "cell_type": "code",
   "execution_count": 3,
   "metadata": {},
   "outputs": [],
   "source": [
    "def load_file(filename):\n",
    "    data = loadmat(filename)\n",
    "    return data['X'], data['y']"
   ]
  },
  {
   "cell_type": "code",
   "execution_count": 6,
   "metadata": {},
   "outputs": [],
   "source": [
    "def first_test():\n",
    "    X, y = load_file('ex3data1.mat')\n",
    "    sample = np.random.choice(X.shape[0], 10)\n",
    "    plt.imshow(X[sample, :].reshape(-1, 20).T)\n",
    "    plt.axis('off')"
   ]
  },
  {
   "cell_type": "code",
   "execution_count": 7,
   "metadata": {},
   "outputs": [
    {
     "data": {
      "image/png": "[encoded data removed]",
      "text/plain": [
       "<Figure size 432x288 with 1 Axes>"
      ]
     },
     "metadata": {
      "needs_background": "light"
     },
     "output_type": "display_data"
    }
   ],
   "source": [
    "first_test()"
   ]
  },
  {
   "cell_type": "markdown",
   "metadata": {},
   "source": [
    "\n",
    "\n",
    "### Vectorización de la regresión logística\n",
    "\n",
    "El siguiente paso ha consistido en vectorizar las funciones de coste y gradiente que habíamos utilizado previamente. Además, obtuvimos las versiones regularizadas añadiendo a los valores obtenidos los correspondientes términos de regularización. Las funciones son transcripciones directas de la fórmula del gradiente y el coste para la regresión logística.\n"
   ]
  },
  {
   "cell_type": "code",
   "execution_count": 36,
   "metadata": {},
   "outputs": [],
   "source": [
    "def g(Z):\n",
    "    return 1 / (1 + np.exp(-Z))"
   ]
  },
  {
   "cell_type": "code",
   "execution_count": 37,
   "metadata": {},
   "outputs": [],
   "source": [
    "def coste_reg(Theta, X, Y, Lambda):\n",
    "    m = np.shape(X)[0]\n",
    "    cost = -(((np.log(g(X@Theta))).T@Y) + ((np.log(1-g(X@Theta))).T@(1 - Y)))/m\n",
    "    reg = (Lambda/(2*m))*sum(Theta**2)\n",
    "    return cost + reg"
   ]
  },
  {
   "cell_type": "code",
   "execution_count": 38,
   "metadata": {},
   "outputs": [],
   "source": [
    "def gradiente_reg(Theta, X, Y, Lambda):\n",
    "    m = np.shape(X)[0]\n",
    "    grad = (X.T@(g(X@Theta)-Y))/m\n",
    "    aux = np.copy(Theta)\n",
    "    aux[0] = 0.0\n",
    "    reg =  (Lambda/m)*aux\n",
    "    return grad + reg"
   ]
  },
  {
   "cell_type": "markdown",
   "metadata": {},
   "source": [
    "\n",
    "\n",
    "### Clasificación de uno frente a todos\n",
    "\n",
    "Para obtener la matriz de thetas óptimas primero tenemos que aplicar una conversión al vector _y_, transformándolo en una matriz con tantas filas como etiquetas tengamos para clasificar. La fila 1 tiene todos los valores a 0 salvo aquellos que sean 1; la fila 2 tiene todos los valores a 0, salvo aquellos que fueran 2; y así sucesivamente. \n",
    "\n",
    "Significativamente, la fila 0 tiene todos los valores a 0 salvo aquellos que sean 10. Es por eso que la optimización por minimización de esta primera fila se realiza fuera del bucle principal de la función oneVsAll():\n"
   ]
  },
  {
   "cell_type": "code",
   "execution_count": 39,
   "metadata": {},
   "outputs": [],
   "source": [
    "def oneVsAll(X, y, num_etiquetas, reg):\n",
    "    Theta = np.zeros(X.shape[1])\n",
    "    Thetas = np.zeros([num_etiquetas, X.shape[1]])\n",
    "    \n",
    "    y_i = np.where(y == 10, 1, 0)\n",
    "    Thetas[0] = opt.fmin_tnc(func=coste_reg, x0=Theta, fprime=gradiente_reg, args=(X, y_i, reg))[0]\n",
    "    \n",
    "    for i in range(1, num_etiquetas):\n",
    "        y_i = np.where(y == i, 1, 0)\n",
    "        Thetas[i] = opt.fmin_tnc(func=coste_reg, x0=Theta, fprime=gradiente_reg, args=(X, y_i, reg))[0]\n",
    "    \n",
    "    return Thetas"
   ]
  },
  {
   "cell_type": "markdown",
   "metadata": {},
   "source": [
    "\n",
    "La forma en que se clasifican los elementos es, a partir de una muestra y las thetas óptimas, aplicando la función sigmoidea a su producto. La etiqueta que consiga un valor más elevado (y, por tanto, más cercano a 1) es la seleccionada:\n"
   ]
  },
  {
   "cell_type": "code",
   "execution_count": 53,
   "metadata": {},
   "outputs": [],
   "source": [
    "def clasificador(muestra, num_etiquetas, Thetas):\n",
    "    \n",
    "    sigmoides = np.zeros(num_etiquetas)\n",
    "    \n",
    "    for i in range(num_etiquetas):\n",
    "        sigmoides[i] = g(np.dot(muestra, Thetas[i, :]))\n",
    "\n",
    "    return np.argmax(sigmoides)"
   ]
  },
  {
   "cell_type": "markdown",
   "metadata": {},
   "source": [
    "\n",
    "Una vez clasificada toda la muestra, sólo queda comparar con los resultados reales para comprobar el porcentaje de precisión de nuestra regresión logística. En este test hemos obtenido una precisión en los resultados de la clasificación del **96.48%**, superior al 95% esperado:\n"
   ]
  },
  {
   "cell_type": "code",
   "execution_count": 61,
   "metadata": {},
   "outputs": [],
   "source": [
    "def porcentajeCoincidencias(a, b):\n",
    "    comp = a == b\n",
    "    return 100 * sum(map(lambda comp : comp == True, comp)) / comp.shape"
   ]
  },
  {
   "cell_type": "code",
   "execution_count": 62,
   "metadata": {},
   "outputs": [],
   "source": [
    "def entrenamiento(X, y, num_etiquetas, reg):\n",
    "    Thetas = oneVsAll(X, y, num_etiquetas, reg)\n",
    "    \n",
    "    y_ = np.zeros(X.shape[0])\n",
    "    y = np.where(y == 10, 0, y)\n",
    "    \n",
    "    for i in range(X.shape[0]):\n",
    "        y_[i] = clasificador(X[i, :], num_etiquetas, Thetas)\n",
    "        \n",
    "    return porcentajeCoincidencias(y_, y)"
   ]
  },
  {
   "cell_type": "code",
   "execution_count": 63,
   "metadata": {},
   "outputs": [],
   "source": [
    "def second_test():\n",
    "    Lambda = 0.1\n",
    "    num_etiquetas = 10\n",
    "    \n",
    "    X, y = load_file('ex3data1.mat')\n",
    "    X_ones = np.hstack([np.ones([np.shape(X)[0], 1]), X])\n",
    "    Y_ravel = np.ravel(y)\n",
    "    \n",
    "    percentage = entrenamiento(X_ones, Y_ravel, num_etiquetas, Lambda)\n",
    "    print(\"Porcentaje reg logística: \", percentage)"
   ]
  },
  {
   "cell_type": "code",
   "execution_count": 64,
   "metadata": {},
   "outputs": [
    {
     "name": "stdout",
     "output_type": "stream",
     "text": [
      "Porcentaje:  [96.48]\n"
     ]
    }
   ],
   "source": [
    "second_test()"
   ]
  },
  {
   "cell_type": "markdown",
   "metadata": {},
   "source": [
    "\n",
    "\n",
    "## Redes neuronales\n",
    "\n",
    "El objetivo de esta parte de la práctica es utilizar los pesos proporcionados para una red\n",
    "neuronal ya entrenada sobre los ejemplos para evaluar su precisión sobre esos mismos ejemplos.\n",
    "\n",
    "Utilizamos una función auxiliar para cargar los datos de _ex3data1.mat_ y los pesos de la red neuronal entrenada de _ex3weights.mat_, para pasar a comprobar los resultados del entrenamiento.\n"
   ]
  },
  {
   "cell_type": "code",
   "execution_count": 71,
   "metadata": {},
   "outputs": [],
   "source": [
    "def load_neural_data(filename):\n",
    "    weights = loadmat(filename)\n",
    "    return weights['Theta1'], weights['Theta2']"
   ]
  },
  {
   "cell_type": "markdown",
   "metadata": {},
   "source": [
    "\n",
    "La función de propagación hacia delante toma una muestra X y dos thetas, una para el paso de la capa de entrada a la capa oculta, y la otra para el paso de la capa oculta a la capa de salida; aplicando regresión logística podemos obtener un valor hθ(x(i)) para cada ejemplo i.\n",
    "\n",
    "Tal y como hicimos en el apartado anterior, clasificaremos la muestra atendiendo al sigmoide cuyo valor sea más elevado, tal y como se ve en la función predictor():\n"
   ]
  },
  {
   "cell_type": "code",
   "execution_count": 86,
   "metadata": {},
   "outputs": [],
   "source": [
    "def propagacion(X, theta1, theta2):\n",
    "    a1 = np.hstack([np.ones([X.shape[0], 1]), X])\n",
    "    z2 = np.dot(a1, theta1.T)\n",
    "    a2 = np.hstack([np.ones([X.shape[0], 1]), g(z2)])\n",
    "    z3 = np.dot(a2, theta2.T)\n",
    "    return g(z3)"
   ]
  },
  {
   "cell_type": "code",
   "execution_count": 87,
   "metadata": {},
   "outputs": [],
   "source": [
    "def predictor(sigmoides) :\n",
    "    y = np.zeros(sigmoides.shape[0])\n",
    "    for i in range(sigmoides.shape[0]):\n",
    "        y[i] = np.argmax(sigmoides[i, :]) + 1 \n",
    "    return y"
   ]
  },
  {
   "cell_type": "code",
   "execution_count": 88,
   "metadata": {},
   "outputs": [],
   "source": [
    "def entrenamiento_neural(X, y, theta1, theta2) :\n",
    "    sigmoides = propagacion(X, theta1, theta2)\n",
    "    y_ = predictor(sigmoides)\n",
    "    return porcentajeCoincidencias(y_, y)"
   ]
  },
  {
   "cell_type": "markdown",
   "metadata": {},
   "source": [
    "\n",
    "Tras comparar los resultados de la clasificación mediante propagación hacia delante con los datos reales, obtenemos que la precisión de la red neuronal es del **97.52%** (se esperaba un valor de entorno al 97.5%):\n"
   ]
  },
  {
   "cell_type": "code",
   "execution_count": 91,
   "metadata": {},
   "outputs": [],
   "source": [
    "def third_test():\n",
    "    X, y = load_file('ex3data1.mat')\n",
    "    Y_ravel = np.ravel(y)\n",
    "    \n",
    "    theta1, theta2 = load_neural_data('ex3weights.mat')\n",
    "    percentage = entrenamiento_neural(X, Y_ravel, theta1, theta2)\n",
    "    print(\"Porcentaje red neuronal: \", percentage)"
   ]
  },
  {
   "cell_type": "code",
   "execution_count": 92,
   "metadata": {},
   "outputs": [
    {
     "name": "stdout",
     "output_type": "stream",
     "text": [
      "Porcentaje red neuronal:  [97.52]\n"
     ]
    }
   ],
   "source": [
    "third_test()"
   ]
  }
 ],
 "metadata": {
  "kernelspec": {
   "display_name": "Python 3",
   "language": "python",
   "name": "python3"
  },
  "language_info": {
   "codemirror_mode": {
    "name": "ipython",
    "version": 3
   },
   "file_extension": ".py",
   "mimetype": "text/x-python",
   "name": "python",
   "nbconvert_exporter": "python",
   "pygments_lexer": "ipython3",
   "version": "3.7.3"
  }
 },
 "nbformat": 4,
 "nbformat_minor": 2
}
